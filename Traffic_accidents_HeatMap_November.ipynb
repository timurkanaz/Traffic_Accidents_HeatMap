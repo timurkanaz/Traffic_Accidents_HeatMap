{
 "cells": [
  {
   "cell_type": "code",
   "execution_count": 67,
   "metadata": {},
   "outputs": [],
   "source": [
    "import folium\n",
    "from datetime import datetime as dt\n",
    "from folium.plugins import HeatMapWithTime\n",
    "import requests as r\n",
    "from json import loads,dumps"
   ]
  },
  {
   "cell_type": "code",
   "execution_count": 68,
   "metadata": {},
   "outputs": [],
   "source": [
    "dicts={\"data\":{\"date\":[\"MONTHS:11.2020\"],\"ParReg\":\"92\",\"order\":{\"type\":\"1\",\"fieldName\":\"dat\"},\"reg\":\"92401\",\"ind\":\"1\",\"st\":\"1\",\"en\":\"300\"}}\n",
    "js={}\n",
    "js[\"data\"]=dumps(dicts[\"data\"],separators=(',', ':')).encode(\"utf8\").decode('unicode-escape')"
   ]
  },
  {
   "cell_type": "code",
   "execution_count": 69,
   "metadata": {},
   "outputs": [],
   "source": [
    "raw_data= r.post(\"http://stat.gibdd.ru/map/getDTPCardData\", json=js)\n",
    "data=loads(loads(raw_data.content)[\"data\"])[\"tab\"]"
   ]
  },
  {
   "cell_type": "code",
   "execution_count": 70,
   "metadata": {},
   "outputs": [],
   "source": [
    "date=[dt.strptime(data[i][\"date\"],\"%d.%m.%Y\").day for i in range(len(data))]\n",
    "Lat=[data[i]['infoDtp'][\"COORD_W\"] for i in range(len(data))]\n",
    "Lon=[data[i]['infoDtp'][\"COORD_L\"] for i in range(len(data))]\n",
    "final=list(zip(Lat,Lon))"
   ]
  },
  {
   "cell_type": "code",
   "execution_count": 71,
   "metadata": {},
   "outputs": [],
   "source": [
    "days=[[] for _ in range(30)]\n",
    "for ind,d in enumerate(date):\n",
    "    days[d-1].append([final[ind][0],final[ind][1]])\n",
    "labels=[str(i+1)+\" ноября\" for i in range(30)]\n"
   ]
  },
  {
   "cell_type": "code",
   "execution_count": 72,
   "metadata": {},
   "outputs": [],
   "source": [
    "m=folium.Map([55.8004698,49.1052443],tiles=\"https://{s}.tile.jawg.io/jawg-light/{z}/{x}/{y}{r}.png?access-token=LvQFAfvNKy1k8ZdbZbh1nZthL9k4YukhhC9kJX5f2wOby0fMzVn3osslwu8vkGoy\",attr='<a href=\"http://jawg.io\" title=\"Tiles Courtesy of Jawg Maps\" target=\"_blank\" class=\"jawg-attrib\">&copy; <b>Jawg</b>Maps</a> | <a href=\"https://www.openstreetmap.org/copyright\" title=\"OpenStreetMap is open data licensed under ODbL\" target=\"_blank\" class=\"osm-attrib\">&copy; OSM contributors</a>')\n",
    "HeatMapWithTime(days,labels).add_to(m)\n",
    "m.save(\"november_accidents.html\")"
   ]
  },
  {
   "cell_type": "code",
   "execution_count": null,
   "metadata": {},
   "outputs": [],
   "source": []
  }
 ],
 "metadata": {
  "kernelspec": {
   "display_name": "Python 3",
   "language": "python",
   "name": "python3"
  },
  "language_info": {
   "codemirror_mode": {
    "name": "ipython",
    "version": 3
   },
   "file_extension": ".py",
   "mimetype": "text/x-python",
   "name": "python",
   "nbconvert_exporter": "python",
   "pygments_lexer": "ipython3",
   "version": "3.8.3"
  }
 },
 "nbformat": 4,
 "nbformat_minor": 4
}
